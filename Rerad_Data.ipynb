{
  "cells": [
    {
      "cell_type": "markdown",
      "metadata": {
        "id": "view-in-github",
        "colab_type": "text"
      },
      "source": [
        "<a href=\"https://colab.research.google.com/github/pkapgatelive/EEG_Signals_GAMEEMO/blob/Read_Data/Rerad_Data.ipynb\" target=\"_parent\"><img src=\"https://colab.research.google.com/assets/colab-badge.svg\" alt=\"Open In Colab\"/></a>"
      ]
    },
    {
      "cell_type": "code",
      "execution_count": 30,
      "id": "6f1a0368-17a4-4407-b211-fd77eb3d1f58",
      "metadata": {
        "id": "6f1a0368-17a4-4407-b211-fd77eb3d1f58",
        "colab": {
          "base_uri": "https://localhost:8080/"
        },
        "outputId": "810638e2-1aeb-4773-b268-4ff6f253929d"
      },
      "outputs": [
        {
          "output_type": "stream",
          "name": "stdout",
          "text": [
            "Drive already mounted at /content/drive; to attempt to forcibly remount, call drive.mount(\"/content/drive\", force_remount=True).\n"
          ]
        }
      ],
      "source": [
        "# import Lib\n",
        "import os\n",
        "import pandas as pd\n",
        "import glob\n",
        "from google.colab import drive \n",
        "drive.mount('/content/drive')\n",
        "\n",
        "# reading Data into dataframe\n",
        "\n",
        "def read_data(all_files):\n",
        "  g_df = []\n",
        "  for filename in all_files:\n",
        "    df = pd.read_csv(filename, index_col=None, header=0)\n",
        "    g_df.append(df)\n",
        "    frame = pd.concat(g_df, axis=0, ignore_index=True)\n",
        "  return frame \n",
        "\n",
        "# Reading G1\n",
        "def g1_df():\n",
        "  path_g1 = '/content/drive/MyDrive/Colab Notebooks/EEG_game_signals/Data_Reading/Game/G1'\n",
        "  g_all_files = glob.glob(path_g1 + \"/*.csv\")\n",
        "  g1_df = read_data(g_all_files)\n",
        "  return g1_df\n",
        "\n",
        "# Reading G2\n",
        "def g2_df():\n",
        "  path_g2 = '/content/drive/MyDrive/Colab Notebooks/EEG_game_signals/Data_Reading/Game/G2'\n",
        "  g_all_files = glob.glob(path_g2 + \"/*.csv\")\n",
        "  g2_df = read_data(g_all_files)\n",
        "  return g2_df\n",
        "\n",
        "# Reading G3\n",
        "def g2_df():\n",
        "  path_g3 = '/content/drive/MyDrive/Colab Notebooks/EEG_game_signals/Data_Reading/Game/G3'\n",
        "  g_all_files = glob.glob(path_g3 + \"/*.csv\")\n",
        "  g3_df = read_data(g_all_files)\n",
        "  return g3_df\n",
        "\n",
        "\n",
        "# Reading G4\n",
        "def g4_df():\n",
        "  path_g4 = '/content/drive/MyDrive/Colab Notebooks/EEG_game_signals/Data_Reading/Game/G4'\n",
        "  g_all_files = glob.glob(path_g4 + \"/*.csv\")\n",
        "  g4_df = read_data(g_all_files)\n",
        "  return g4_df"
      ]
    }
  ],
  "metadata": {
    "kernelspec": {
      "display_name": "Python 3 (ipykernel)",
      "language": "python",
      "name": "python3"
    },
    "language_info": {
      "codemirror_mode": {
        "name": "ipython",
        "version": 3
      },
      "file_extension": ".py",
      "mimetype": "text/x-python",
      "name": "python",
      "nbconvert_exporter": "python",
      "pygments_lexer": "ipython3",
      "version": "3.9.7"
    },
    "colab": {
      "name": "Data.ipynb",
      "provenance": [],
      "collapsed_sections": [],
      "include_colab_link": true
    }
  },
  "nbformat": 4,
  "nbformat_minor": 5
}